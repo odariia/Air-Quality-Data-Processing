{
 "cells": [
  {
   "cell_type": "code",
   "execution_count": 2,
   "id": "1ae5d099-9bf3-4948-a92c-92107f58f602",
   "metadata": {},
   "outputs": [
    {
     "name": "stderr",
     "output_type": "stream",
     "text": [
      "2024-07-11 09:56:42,457 INFO Welcome to the CDS\n"
     ]
    },
    {
     "name": "stdout",
     "output_type": "stream",
     "text": [
      "today is 2024-07-09\n",
      "tomorrow will be 2024-07-10\n",
      "Give me data in the period 2024-07-09/2024-07-10\n"
     ]
    },
    {
     "name": "stderr",
     "output_type": "stream",
     "text": [
      "2024-07-11 09:56:42,458 INFO Sending request to https://ads.atmosphere.copernicus.eu/api/v2/resources/cams-europe-air-quality-forecasts\n",
      "2024-07-11 09:56:42,505 INFO Request is queued\n",
      "2024-07-11 09:56:43,558 INFO Request is running\n",
      "2024-07-11 09:57:15,016 INFO Request is completed\n",
      "2024-07-11 09:57:15,017 INFO Downloading https://download-0004-ads-clone.copernicus-climate.eu/cache-compute-0004/cache/data3/adaptor.cams_regional_fc.retrieve-1720684605.7153645-27529-9-1dbbb94c-fa34-491e-97c9-64fecb077cde.grib to download.grib (6.2M)\n",
      "2024-07-11 09:57:16,051 INFO Download rate 6M/s     \n"
     ]
    },
    {
     "data": {
      "text/plain": [
       "Result(content_length=6451368,content_type=application/x-grib,location=https://download-0004-ads-clone.copernicus-climate.eu/cache-compute-0004/cache/data3/adaptor.cams_regional_fc.retrieve-1720684605.7153645-27529-9-1dbbb94c-fa34-491e-97c9-64fecb077cde.grib)"
      ]
     },
     "execution_count": 2,
     "metadata": {},
     "output_type": "execute_result"
    }
   ],
   "source": [
    "import cdsapi\n",
    "import yaml\n",
    "import datetime\n",
    "\n",
    "with open(\"C:\\\\Users\\\\Administrateur\\\\.cdsapirc\") as f:\n",
    "            credentials = yaml.safe_load(f)\n",
    "\n",
    "c = cdsapi.Client(url=credentials['url'], key=credentials['key'])\n",
    "\n",
    "def date_request():\n",
    "    current_date = datetime.datetime.now().date() - datetime.timedelta(days=2)\n",
    "    tomorrow =  datetime.datetime.now().date() -  datetime.timedelta(days=1)\n",
    "    print(\"today is\", current_date)\n",
    "    print(\"tomorrow will be\", tomorrow)\n",
    "    timeseries = str(current_date)+\"/\"+str(tomorrow)\n",
    "    return timeseries\n",
    "\n",
    "\n",
    "\n",
    "timeseries = date_request()\n",
    "print(\"Give me data in the period\", timeseries)\n",
    "\n",
    "c.retrieve(\n",
    "    'cams-europe-air-quality-forecasts',\n",
    "    {\n",
    "        'variable': [\n",
    "    'particulate_matter_10um', 'particulate_matter_2.5um', 'nitrogen_dioxide', 'nitrogen_monoxide', 'sulphur_dioxide',\n",
    "    'carbon_monoxide', 'ozone', \n",
    "        ],\n",
    "    # Add all other variables listed in the dataset documentation here              \n",
    "        'model': 'ensemble',\n",
    "        'level': '0',\n",
    "        'date': timeseries,\n",
    "        'type': 'analysis',\n",
    "        'time': [\n",
    "            '00:00', '01:00', '02:00',\n",
    "            '03:00', '04:00', '05:00',\n",
    "            '06:00', '07:00', '08:00',\n",
    "            '09:00', '10:00', '11:00',\n",
    "            '12:00', '13:00', '14:00',\n",
    "            '15:00', '16:00', '17:00',\n",
    "            '18:00', '19:00', '20:00',\n",
    "            '21:00', '22:00', '23:00',\n",
    "        ],\n",
    "        'leadtime_hour': '0',\n",
    "        'area': [\n",
    "            51.35, -5.64, 42.26,\n",
    "            8.42,\n",
    "        ],\n",
    "        'format': 'grib',\n",
    "    },\n",
    "    'download.grib')"
   ]
  },
  {
   "cell_type": "code",
   "execution_count": null,
   "id": "e69a5ea5-4510-41cb-89fe-33ac17c242a8",
   "metadata": {},
   "outputs": [],
   "source": []
  },
  {
   "cell_type": "code",
   "execution_count": null,
   "id": "89c38c9a-8bb2-43fd-a0d7-77cc0dbe9d83",
   "metadata": {},
   "outputs": [],
   "source": []
  }
 ],
 "metadata": {
  "kernelspec": {
   "display_name": "Python (pygrib_env)",
   "language": "python",
   "name": "pygrib_env"
  },
  "language_info": {
   "codemirror_mode": {
    "name": "ipython",
    "version": 3
   },
   "file_extension": ".py",
   "mimetype": "text/x-python",
   "name": "python",
   "nbconvert_exporter": "python",
   "pygments_lexer": "ipython3",
   "version": "3.9.19"
  }
 },
 "nbformat": 4,
 "nbformat_minor": 5
}
